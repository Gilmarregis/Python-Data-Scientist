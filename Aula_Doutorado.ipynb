{
  "nbformat": 4,
  "nbformat_minor": 0,
  "metadata": {
    "colab": {
      "provenance": [],
      "authorship_tag": "ABX9TyPGkgTpgKUzqdDTszow9yRy"
    },
    "kernelspec": {
      "name": "python3",
      "display_name": "Python 3"
    },
    "language_info": {
      "name": "python"
    }
  },
  "cells": [
    {
      "cell_type": "markdown",
      "source": [
        "# <span style=\"color:blue\">Python para cientistas</span>\n",
        "\n",
        "## <span style=\"color:blue\">Ajuste dados experimentais por regressão linear</span>\n",
        "---\n"
      ],
      "metadata": {
        "id": "90YRmpbZZZYW"
      }
    },
    {
      "cell_type": "markdown",
      "source": [
        "***Problema***\n",
        "\n",
        "\n",
        "Vamos considerar o problema da determinação da constante de Planck h, a partir de dados obtidos\n",
        "numa experiência com uma célula fotoelétrica, que consistem numa série de valores do potencial de\n",
        "paragem $𝑉_𝑝$, em função do comprimento de onda da luz incidente na célula.\n",
        "\n",
        "Utilizando a lei de Planck:\n",
        "\n",
        "$$\n",
        "E = h × ν\n",
        "$$\n",
        "\n",
        "em que $E$ é a energia de um foton e $\\nu$\n",
        "a sua frequência, e a lei de conservação da energia pode\n",
        "escrever-se:\n",
        "\n",
        "$$\n",
        "𝑒𝑉_𝑝 = ℎν − W\n",
        "$$\n",
        "\n",
        "$$\n",
        "y = mx + b\n",
        "$$\n",
        "\n",
        "em que $𝑊$ é a energia de arranque da célula, considerada constante para cada célula.  A partir da sua equação, Einstein fez a seguinte previsão: variando-se a freqüência, $ν$, da luz incidente e plotando-se $V_p$ versus $\\nu$, obtêm-se uma reta, cujo coeficiente angular deve ser $h$, sendo $h$ uma constante universal, independente do material irradiado. Esta constante é conhecida como constante de Planck, determinada pela lei de radiação.\n",
        "\n",
        "**O problema consiste, portanto, em:** dados $(𝑉_{𝑝,𝑘}, 𝜈_𝑘)(𝑘 = 1,2, … , 𝑁)$, calcular a melhor aproximação\n",
        "possível (num sentido a definir) para $ℎ$. A solução do problema fornecerá igualmente um valor para\n",
        "$𝑊$.\n",
        "\n"
      ],
      "metadata": {
        "id": "EYBD-lJ9VAex"
      }
    },
    {
      "cell_type": "code",
      "source": [
        "import numpy as np\n",
        "import matplotlib.pyplot as plt\n",
        "import pandas as pd\n",
        "from matplotlib.pyplot import figure\n",
        "%matplotlib inline\n",
        "\n"
      ],
      "metadata": {
        "id": "tTBNw0GAUjQo"
      },
      "execution_count": null,
      "outputs": []
    },
    {
      "cell_type": "markdown",
      "source": [
        "***Formulação Matemática do problema***\n"
      ],
      "metadata": {
        "id": "-MbliCQdW_BZ"
      }
    },
    {
      "cell_type": "markdown",
      "source": [
        "**Regressão linear usando multiplicação matricial**\n",
        "\n",
        "Dado um conjunto de pontos $(x_0, y_0),(x_1, y_1),\\ldots,(x_n, y_n)$, podemos encontrar uma reta $y=\\alpha_0+\\alpha_1 x$ relacionada à esses pontos ao resolver o sistema linear na forma:\n",
        "\n",
        "$$\n",
        "A^\\top A\\alpha = A^\\top b\n",
        "$$\n",
        "\n",
        "onde $A^\\top$ é o transposto de $A$ sendo:\n",
        "\n",
        "$$\n",
        "A=\\left(\\begin{array}{cc}\n",
        "1 & x_0 \\\\\n",
        "1 & x_1 \\\\\n",
        "\\vdots & \\vdots \\\\\n",
        "1 & x_n\n",
        "\\end{array}\\right) \\textrm{,  }\n",
        "\\qquad\n",
        "\\alpha = \\left(\\begin{array}{c}\n",
        "\\alpha_0 \\\\\n",
        "\\alpha_1\n",
        "\\end{array}\\right) \\textrm{,  }\n",
        "\\qquad\n",
        "b = \\left(\\begin{array}{c}\n",
        "y_0 \\\\\n",
        "y_1 \\\\\n",
        "\\vdots \\\\\n",
        "y_n\n",
        "\\end{array}\\right)\n",
        "$$\n",
        "\n",
        "Podemos considerar os pontos $(x_i, y_i)$  gerados por um experimento qualquer para construir uma matriz de dados $A$.\n",
        "\n"
      ],
      "metadata": {
        "id": "Sf_sLBheLsB-"
      }
    },
    {
      "cell_type": "code",
      "source": [
        "#Importando as bibliotecas necessárias\n",
        "import numpy as np\n",
        "import matplotlib.pyplot as plt\n",
        "import pandas as pd\n",
        "from matplotlib.pyplot import figure\n",
        "%matplotlib inline\n",
        "\n"
      ],
      "metadata": {
        "id": "NTwcGmrXTDBI"
      },
      "execution_count": null,
      "outputs": []
    },
    {
      "cell_type": "markdown",
      "source": [
        "***Dados de 10 medidas de um\n",
        "experimento real de uma célula fotoelétrica***"
      ],
      "metadata": {
        "id": "6k0aoUmnTMMo"
      }
    },
    {
      "cell_type": "code",
      "source": [
        "#Visualizando os dados em forma de tabela\n",
        "\n",
        "A = np.array([ [ 749, 1.],\n",
        "     [724, 0.99],\n",
        "     [699,0.89],\n",
        "     [674,0.79],\n",
        "     [649,0.68],\n",
        "     [624,0.57],\n",
        "     [599,0.47],\n",
        "     [574,0.37],\n",
        "     [549,0.28],\n",
        "     [524,0.17],\n",
        "     [499,0.07]])\n",
        "\n",
        "df = pd.DataFrame(A, columns = ['nu (Frequência)','V_p (Pontencial)'])\n",
        "print(df)"
      ],
      "metadata": {
        "colab": {
          "base_uri": "https://localhost:8080/"
        },
        "id": "SIXFFAcaSjSq",
        "outputId": "33644f5c-f073-4dab-ab6e-a784013649c4"
      },
      "execution_count": null,
      "outputs": [
        {
          "output_type": "stream",
          "name": "stdout",
          "text": [
            "    nu (Frequência)  V_p (Pontencial)\n",
            "0             749.0              1.00\n",
            "1             724.0              0.99\n",
            "2             699.0              0.89\n",
            "3             674.0              0.79\n",
            "4             649.0              0.68\n",
            "5             624.0              0.57\n",
            "6             599.0              0.47\n",
            "7             574.0              0.37\n",
            "8             549.0              0.28\n",
            "9             524.0              0.17\n",
            "10            499.0              0.07\n"
          ]
        }
      ]
    },
    {
      "cell_type": "code",
      "source": [
        "nu, Vp = 1e12*A[:,0], A[:,1]"
      ],
      "metadata": {
        "id": "eGKdki_vSpKs"
      },
      "execution_count": null,
      "outputs": []
    },
    {
      "cell_type": "code",
      "source": [
        "print(nu, Vp)"
      ],
      "metadata": {
        "colab": {
          "base_uri": "https://localhost:8080/"
        },
        "id": "Qi4nTfJ_SlZe",
        "outputId": "224b2c6d-3e5c-40cc-8abc-737d0e68c5ec"
      },
      "execution_count": null,
      "outputs": [
        {
          "output_type": "stream",
          "name": "stdout",
          "text": [
            "[7.49e+14 7.24e+14 6.99e+14 6.74e+14 6.49e+14 6.24e+14 5.99e+14 5.74e+14\n",
            " 5.49e+14 5.24e+14 4.99e+14] [1.   0.99 0.89 0.79 0.68 0.57 0.47 0.37 0.28 0.17 0.07]\n"
          ]
        }
      ]
    },
    {
      "cell_type": "code",
      "source": [
        "#Frequência\n",
        "nu=1e12*np.array([749,724,699,674,649,624,599,574,549,524,499],dtype=float)\n",
        "\n",
        "#valores do potencial de paragem 𝑉_p (V)\n",
        "Vp=np.array([1,0.99,0.89,0.79,0.68,0.57,0.47,0.37,0.28,0.17,0.07])"
      ],
      "metadata": {
        "id": "W6nPS9qtSxFb"
      },
      "execution_count": null,
      "outputs": []
    },
    {
      "cell_type": "markdown",
      "source": [
        "\n",
        "Após um pouco de manipulação algébrica é possível escrever os coeficientes, $\\alpha_0$ e $ \\alpha_1$ da equação $y=\\alpha_0+\\alpha_1 x$, como:\n",
        "\n",
        "$$\n",
        "\\hat{\\alpha} = \\left ( A^{T}  \\cdot A \\right )^{-1} \\cdot A^{T}\\cdot Y\n",
        "$$\n",
        "\n",
        "Implementando a equação acima para determinar os coeficientes da equação."
      ],
      "metadata": {
        "id": "9xiiCb1ZSPJR"
      }
    },
    {
      "cell_type": "code",
      "source": [
        "#Resolvendo o sistema linear para obter os coeficientes da equação linear\n",
        "alpha_hat = np.linalg.inv(A.T.dot(A)).dot(A.T).dot(Vp)"
      ],
      "metadata": {
        "id": "vwk0I_L-ALrT"
      },
      "execution_count": null,
      "outputs": []
    },
    {
      "cell_type": "code",
      "source": [
        "print(alpha_hat)"
      ],
      "metadata": {
        "colab": {
          "base_uri": "https://localhost:8080/"
        },
        "id": "CiFAgbi2BLpq",
        "outputId": "37679e1f-8f6c-4b55-b212-2bbc43c88055"
      },
      "execution_count": null,
      "outputs": [
        {
          "output_type": "stream",
          "name": "stdout",
          "text": [
            "[-6.50521303e-19  1.00000000e+00]\n"
          ]
        }
      ]
    },
    {
      "cell_type": "code",
      "source": [
        "#Utilizando somente o valor de interesse\n",
        "h = - alpha_hat[:1]"
      ],
      "metadata": {
        "id": "G52-dvyNEPSg"
      },
      "execution_count": null,
      "outputs": []
    },
    {
      "cell_type": "code",
      "source": [
        "print(h)"
      ],
      "metadata": {
        "colab": {
          "base_uri": "https://localhost:8080/"
        },
        "id": "cy2VQbd5EbRl",
        "outputId": "dfdfc999-869b-4fcf-b1cf-b515b990393f"
      },
      "execution_count": null,
      "outputs": [
        {
          "output_type": "stream",
          "name": "stdout",
          "text": [
            "[6.50521303e-19]\n"
          ]
        }
      ]
    },
    {
      "cell_type": "code",
      "source": [
        "# Valor predito para um próximo ponto de acordo com os dados obtidos.\n",
        "yhat = A.dot(alpha_hat)"
      ],
      "metadata": {
        "id": "Q_cw-zQMBolB"
      },
      "execution_count": null,
      "outputs": []
    },
    {
      "cell_type": "code",
      "source": [
        "# Plot dos dados e do valor predito (yhat)\n",
        "plt.scatter(nu, Vp)\n",
        "plt.plot(nu, yhat, color='red')\n",
        "plt.text(6.0,0.4,'h='+str(h))\n",
        "plt.xlabel(r'$\\nu$')\n",
        "plt.ylabel(r'$V_p$(V)')\n",
        "plt.legend([r'Ajuste Linear $y = ax +b$', r'Dados'])\n",
        "plt.title('Determinação da constante de Planck')\n",
        "plt.show()\n"
      ],
      "metadata": {
        "colab": {
          "base_uri": "https://localhost:8080/",
          "height": 295
        },
        "id": "VQ68oDgJBfI4",
        "outputId": "68186fb2-f512-4965-b3da-a7bff3e66561"
      },
      "execution_count": null,
      "outputs": [
        {
          "output_type": "display_data",
          "data": {
            "text/plain": [
              "<Figure size 432x288 with 1 Axes>"
            ],
            "image/png": "[encoded data removed]"
          },
          "metadata": {
            "needs_background": "light"
          }
        }
      ]
    }
  ]
}